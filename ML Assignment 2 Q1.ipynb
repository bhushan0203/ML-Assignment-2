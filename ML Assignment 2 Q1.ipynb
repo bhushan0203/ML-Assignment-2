{
 "cells": [
  {
   "cell_type": "code",
   "execution_count": 9,
   "id": "086c6d94",
   "metadata": {},
   "outputs": [],
   "source": [
    "import numpy as np\n",
    "import pandas as pd\n",
    "import seaborn as sns\n",
    "import matplotlib.pyplot as plt\n",
    "import warnings\n",
    "warnings.filterwarnings(\"ignore\")"
   ]
  },
  {
   "cell_type": "code",
   "execution_count": 10,
   "id": "56d67398",
   "metadata": {},
   "outputs": [],
   "source": [
    "from sklearn.model_selection import train_test_split\n",
    "from sklearn.linear_model import LinearRegression\n",
    "from sklearn.metrics import r2_score,mean_squared_error\n",
    "%matplotlib inline"
   ]
  },
  {
   "cell_type": "code",
   "execution_count": 11,
   "id": "53475656",
   "metadata": {},
   "outputs": [
    {
     "data": {
      "text/html": [
       "<div>\n",
       "<style scoped>\n",
       "    .dataframe tbody tr th:only-of-type {\n",
       "        vertical-align: middle;\n",
       "    }\n",
       "\n",
       "    .dataframe tbody tr th {\n",
       "        vertical-align: top;\n",
       "    }\n",
       "\n",
       "    .dataframe thead th {\n",
       "        text-align: right;\n",
       "    }\n",
       "</style>\n",
       "<table border=\"1\" class=\"dataframe\">\n",
       "  <thead>\n",
       "    <tr style=\"text-align: right;\">\n",
       "      <th></th>\n",
       "      <th>Avg. Area Income</th>\n",
       "      <th>Avg. Area House Age</th>\n",
       "      <th>Avg. Area Number of Rooms</th>\n",
       "      <th>Avg. Area Number of Bedrooms</th>\n",
       "      <th>Area Population</th>\n",
       "      <th>Price</th>\n",
       "      <th>Address</th>\n",
       "    </tr>\n",
       "  </thead>\n",
       "  <tbody>\n",
       "    <tr>\n",
       "      <th>0</th>\n",
       "      <td>79545.458574</td>\n",
       "      <td>5.682861</td>\n",
       "      <td>7.009188</td>\n",
       "      <td>4.09</td>\n",
       "      <td>23086.800503</td>\n",
       "      <td>1.059034e+06</td>\n",
       "      <td>208 Michael Ferry Apt. 674\\nLaurabury, NE 3701...</td>\n",
       "    </tr>\n",
       "    <tr>\n",
       "      <th>1</th>\n",
       "      <td>79248.642455</td>\n",
       "      <td>6.002900</td>\n",
       "      <td>6.730821</td>\n",
       "      <td>3.09</td>\n",
       "      <td>40173.072174</td>\n",
       "      <td>1.505891e+06</td>\n",
       "      <td>188 Johnson Views Suite 079\\nLake Kathleen, CA...</td>\n",
       "    </tr>\n",
       "    <tr>\n",
       "      <th>2</th>\n",
       "      <td>61287.067179</td>\n",
       "      <td>5.865890</td>\n",
       "      <td>8.512727</td>\n",
       "      <td>5.13</td>\n",
       "      <td>36882.159400</td>\n",
       "      <td>1.058988e+06</td>\n",
       "      <td>9127 Elizabeth Stravenue\\nDanieltown, WI 06482...</td>\n",
       "    </tr>\n",
       "    <tr>\n",
       "      <th>3</th>\n",
       "      <td>63345.240046</td>\n",
       "      <td>7.188236</td>\n",
       "      <td>5.586729</td>\n",
       "      <td>3.26</td>\n",
       "      <td>34310.242831</td>\n",
       "      <td>1.260617e+06</td>\n",
       "      <td>USS Barnett\\nFPO AP 44820</td>\n",
       "    </tr>\n",
       "    <tr>\n",
       "      <th>4</th>\n",
       "      <td>59982.197226</td>\n",
       "      <td>5.040555</td>\n",
       "      <td>7.839388</td>\n",
       "      <td>4.23</td>\n",
       "      <td>26354.109472</td>\n",
       "      <td>6.309435e+05</td>\n",
       "      <td>USNS Raymond\\nFPO AE 09386</td>\n",
       "    </tr>\n",
       "    <tr>\n",
       "      <th>...</th>\n",
       "      <td>...</td>\n",
       "      <td>...</td>\n",
       "      <td>...</td>\n",
       "      <td>...</td>\n",
       "      <td>...</td>\n",
       "      <td>...</td>\n",
       "      <td>...</td>\n",
       "    </tr>\n",
       "    <tr>\n",
       "      <th>4995</th>\n",
       "      <td>60567.944140</td>\n",
       "      <td>7.830362</td>\n",
       "      <td>6.137356</td>\n",
       "      <td>3.46</td>\n",
       "      <td>22837.361035</td>\n",
       "      <td>1.060194e+06</td>\n",
       "      <td>USNS Williams\\nFPO AP 30153-7653</td>\n",
       "    </tr>\n",
       "    <tr>\n",
       "      <th>4996</th>\n",
       "      <td>78491.275435</td>\n",
       "      <td>6.999135</td>\n",
       "      <td>6.576763</td>\n",
       "      <td>4.02</td>\n",
       "      <td>25616.115489</td>\n",
       "      <td>1.482618e+06</td>\n",
       "      <td>PSC 9258, Box 8489\\nAPO AA 42991-3352</td>\n",
       "    </tr>\n",
       "    <tr>\n",
       "      <th>4997</th>\n",
       "      <td>63390.686886</td>\n",
       "      <td>7.250591</td>\n",
       "      <td>4.805081</td>\n",
       "      <td>2.13</td>\n",
       "      <td>33266.145490</td>\n",
       "      <td>1.030730e+06</td>\n",
       "      <td>4215 Tracy Garden Suite 076\\nJoshualand, VA 01...</td>\n",
       "    </tr>\n",
       "    <tr>\n",
       "      <th>4998</th>\n",
       "      <td>68001.331235</td>\n",
       "      <td>5.534388</td>\n",
       "      <td>7.130144</td>\n",
       "      <td>5.44</td>\n",
       "      <td>42625.620156</td>\n",
       "      <td>1.198657e+06</td>\n",
       "      <td>USS Wallace\\nFPO AE 73316</td>\n",
       "    </tr>\n",
       "    <tr>\n",
       "      <th>4999</th>\n",
       "      <td>65510.581804</td>\n",
       "      <td>5.992305</td>\n",
       "      <td>6.792336</td>\n",
       "      <td>4.07</td>\n",
       "      <td>46501.283803</td>\n",
       "      <td>1.298950e+06</td>\n",
       "      <td>37778 George Ridges Apt. 509\\nEast Holly, NV 2...</td>\n",
       "    </tr>\n",
       "  </tbody>\n",
       "</table>\n",
       "<p>5000 rows × 7 columns</p>\n",
       "</div>"
      ],
      "text/plain": [
       "      Avg. Area Income  Avg. Area House Age  Avg. Area Number of Rooms  \\\n",
       "0         79545.458574             5.682861                   7.009188   \n",
       "1         79248.642455             6.002900                   6.730821   \n",
       "2         61287.067179             5.865890                   8.512727   \n",
       "3         63345.240046             7.188236                   5.586729   \n",
       "4         59982.197226             5.040555                   7.839388   \n",
       "...                ...                  ...                        ...   \n",
       "4995      60567.944140             7.830362                   6.137356   \n",
       "4996      78491.275435             6.999135                   6.576763   \n",
       "4997      63390.686886             7.250591                   4.805081   \n",
       "4998      68001.331235             5.534388                   7.130144   \n",
       "4999      65510.581804             5.992305                   6.792336   \n",
       "\n",
       "      Avg. Area Number of Bedrooms  Area Population         Price  \\\n",
       "0                             4.09     23086.800503  1.059034e+06   \n",
       "1                             3.09     40173.072174  1.505891e+06   \n",
       "2                             5.13     36882.159400  1.058988e+06   \n",
       "3                             3.26     34310.242831  1.260617e+06   \n",
       "4                             4.23     26354.109472  6.309435e+05   \n",
       "...                            ...              ...           ...   \n",
       "4995                          3.46     22837.361035  1.060194e+06   \n",
       "4996                          4.02     25616.115489  1.482618e+06   \n",
       "4997                          2.13     33266.145490  1.030730e+06   \n",
       "4998                          5.44     42625.620156  1.198657e+06   \n",
       "4999                          4.07     46501.283803  1.298950e+06   \n",
       "\n",
       "                                                Address  \n",
       "0     208 Michael Ferry Apt. 674\\nLaurabury, NE 3701...  \n",
       "1     188 Johnson Views Suite 079\\nLake Kathleen, CA...  \n",
       "2     9127 Elizabeth Stravenue\\nDanieltown, WI 06482...  \n",
       "3                             USS Barnett\\nFPO AP 44820  \n",
       "4                            USNS Raymond\\nFPO AE 09386  \n",
       "...                                                 ...  \n",
       "4995                   USNS Williams\\nFPO AP 30153-7653  \n",
       "4996              PSC 9258, Box 8489\\nAPO AA 42991-3352  \n",
       "4997  4215 Tracy Garden Suite 076\\nJoshualand, VA 01...  \n",
       "4998                          USS Wallace\\nFPO AE 73316  \n",
       "4999  37778 George Ridges Apt. 509\\nEast Holly, NV 2...  \n",
       "\n",
       "[5000 rows x 7 columns]"
      ]
     },
     "execution_count": 11,
     "metadata": {},
     "output_type": "execute_result"
    }
   ],
   "source": [
    "data=pd.read_csv(r\"Z:\\Second Semister\\Machine Learning\\datasets\\USA_Housing.csv\")\n",
    "data"
   ]
  },
  {
   "cell_type": "code",
   "execution_count": 12,
   "id": "686a6901",
   "metadata": {},
   "outputs": [
    {
     "data": {
      "text/plain": [
       "<bound method NDFrame.head of       Avg. Area Income  Avg. Area House Age  Avg. Area Number of Rooms  \\\n",
       "0         79545.458574             5.682861                   7.009188   \n",
       "1         79248.642455             6.002900                   6.730821   \n",
       "2         61287.067179             5.865890                   8.512727   \n",
       "3         63345.240046             7.188236                   5.586729   \n",
       "4         59982.197226             5.040555                   7.839388   \n",
       "...                ...                  ...                        ...   \n",
       "4995      60567.944140             7.830362                   6.137356   \n",
       "4996      78491.275435             6.999135                   6.576763   \n",
       "4997      63390.686886             7.250591                   4.805081   \n",
       "4998      68001.331235             5.534388                   7.130144   \n",
       "4999      65510.581804             5.992305                   6.792336   \n",
       "\n",
       "      Avg. Area Number of Bedrooms  Area Population         Price  \\\n",
       "0                             4.09     23086.800503  1.059034e+06   \n",
       "1                             3.09     40173.072174  1.505891e+06   \n",
       "2                             5.13     36882.159400  1.058988e+06   \n",
       "3                             3.26     34310.242831  1.260617e+06   \n",
       "4                             4.23     26354.109472  6.309435e+05   \n",
       "...                            ...              ...           ...   \n",
       "4995                          3.46     22837.361035  1.060194e+06   \n",
       "4996                          4.02     25616.115489  1.482618e+06   \n",
       "4997                          2.13     33266.145490  1.030730e+06   \n",
       "4998                          5.44     42625.620156  1.198657e+06   \n",
       "4999                          4.07     46501.283803  1.298950e+06   \n",
       "\n",
       "                                                Address  \n",
       "0     208 Michael Ferry Apt. 674\\nLaurabury, NE 3701...  \n",
       "1     188 Johnson Views Suite 079\\nLake Kathleen, CA...  \n",
       "2     9127 Elizabeth Stravenue\\nDanieltown, WI 06482...  \n",
       "3                             USS Barnett\\nFPO AP 44820  \n",
       "4                            USNS Raymond\\nFPO AE 09386  \n",
       "...                                                 ...  \n",
       "4995                   USNS Williams\\nFPO AP 30153-7653  \n",
       "4996              PSC 9258, Box 8489\\nAPO AA 42991-3352  \n",
       "4997  4215 Tracy Garden Suite 076\\nJoshualand, VA 01...  \n",
       "4998                          USS Wallace\\nFPO AE 73316  \n",
       "4999  37778 George Ridges Apt. 509\\nEast Holly, NV 2...  \n",
       "\n",
       "[5000 rows x 7 columns]>"
      ]
     },
     "execution_count": 12,
     "metadata": {},
     "output_type": "execute_result"
    }
   ],
   "source": [
    "data.head"
   ]
  },
  {
   "cell_type": "code",
   "execution_count": 13,
   "id": "18fcc598",
   "metadata": {},
   "outputs": [
    {
     "data": {
      "text/html": [
       "<div>\n",
       "<style scoped>\n",
       "    .dataframe tbody tr th:only-of-type {\n",
       "        vertical-align: middle;\n",
       "    }\n",
       "\n",
       "    .dataframe tbody tr th {\n",
       "        vertical-align: top;\n",
       "    }\n",
       "\n",
       "    .dataframe thead th {\n",
       "        text-align: right;\n",
       "    }\n",
       "</style>\n",
       "<table border=\"1\" class=\"dataframe\">\n",
       "  <thead>\n",
       "    <tr style=\"text-align: right;\">\n",
       "      <th></th>\n",
       "      <th>Avg. Area Income</th>\n",
       "      <th>Avg. Area House Age</th>\n",
       "      <th>Avg. Area Number of Rooms</th>\n",
       "      <th>Avg. Area Number of Bedrooms</th>\n",
       "      <th>Area Population</th>\n",
       "      <th>Price</th>\n",
       "    </tr>\n",
       "  </thead>\n",
       "  <tbody>\n",
       "    <tr>\n",
       "      <th>count</th>\n",
       "      <td>5000.000000</td>\n",
       "      <td>5000.000000</td>\n",
       "      <td>5000.000000</td>\n",
       "      <td>5000.000000</td>\n",
       "      <td>5000.000000</td>\n",
       "      <td>5.000000e+03</td>\n",
       "    </tr>\n",
       "    <tr>\n",
       "      <th>mean</th>\n",
       "      <td>68583.108984</td>\n",
       "      <td>5.977222</td>\n",
       "      <td>6.987792</td>\n",
       "      <td>3.981330</td>\n",
       "      <td>36163.516039</td>\n",
       "      <td>1.232073e+06</td>\n",
       "    </tr>\n",
       "    <tr>\n",
       "      <th>std</th>\n",
       "      <td>10657.991214</td>\n",
       "      <td>0.991456</td>\n",
       "      <td>1.005833</td>\n",
       "      <td>1.234137</td>\n",
       "      <td>9925.650114</td>\n",
       "      <td>3.531176e+05</td>\n",
       "    </tr>\n",
       "    <tr>\n",
       "      <th>min</th>\n",
       "      <td>17796.631190</td>\n",
       "      <td>2.644304</td>\n",
       "      <td>3.236194</td>\n",
       "      <td>2.000000</td>\n",
       "      <td>172.610686</td>\n",
       "      <td>1.593866e+04</td>\n",
       "    </tr>\n",
       "    <tr>\n",
       "      <th>25%</th>\n",
       "      <td>61480.562388</td>\n",
       "      <td>5.322283</td>\n",
       "      <td>6.299250</td>\n",
       "      <td>3.140000</td>\n",
       "      <td>29403.928702</td>\n",
       "      <td>9.975771e+05</td>\n",
       "    </tr>\n",
       "    <tr>\n",
       "      <th>50%</th>\n",
       "      <td>68804.286404</td>\n",
       "      <td>5.970429</td>\n",
       "      <td>7.002902</td>\n",
       "      <td>4.050000</td>\n",
       "      <td>36199.406689</td>\n",
       "      <td>1.232669e+06</td>\n",
       "    </tr>\n",
       "    <tr>\n",
       "      <th>75%</th>\n",
       "      <td>75783.338666</td>\n",
       "      <td>6.650808</td>\n",
       "      <td>7.665871</td>\n",
       "      <td>4.490000</td>\n",
       "      <td>42861.290769</td>\n",
       "      <td>1.471210e+06</td>\n",
       "    </tr>\n",
       "    <tr>\n",
       "      <th>max</th>\n",
       "      <td>107701.748378</td>\n",
       "      <td>9.519088</td>\n",
       "      <td>10.759588</td>\n",
       "      <td>6.500000</td>\n",
       "      <td>69621.713378</td>\n",
       "      <td>2.469066e+06</td>\n",
       "    </tr>\n",
       "  </tbody>\n",
       "</table>\n",
       "</div>"
      ],
      "text/plain": [
       "       Avg. Area Income  Avg. Area House Age  Avg. Area Number of Rooms  \\\n",
       "count       5000.000000          5000.000000                5000.000000   \n",
       "mean       68583.108984             5.977222                   6.987792   \n",
       "std        10657.991214             0.991456                   1.005833   \n",
       "min        17796.631190             2.644304                   3.236194   \n",
       "25%        61480.562388             5.322283                   6.299250   \n",
       "50%        68804.286404             5.970429                   7.002902   \n",
       "75%        75783.338666             6.650808                   7.665871   \n",
       "max       107701.748378             9.519088                  10.759588   \n",
       "\n",
       "       Avg. Area Number of Bedrooms  Area Population         Price  \n",
       "count                   5000.000000      5000.000000  5.000000e+03  \n",
       "mean                       3.981330     36163.516039  1.232073e+06  \n",
       "std                        1.234137      9925.650114  3.531176e+05  \n",
       "min                        2.000000       172.610686  1.593866e+04  \n",
       "25%                        3.140000     29403.928702  9.975771e+05  \n",
       "50%                        4.050000     36199.406689  1.232669e+06  \n",
       "75%                        4.490000     42861.290769  1.471210e+06  \n",
       "max                        6.500000     69621.713378  2.469066e+06  "
      ]
     },
     "execution_count": 13,
     "metadata": {},
     "output_type": "execute_result"
    }
   ],
   "source": [
    "data.describe()"
   ]
  },
  {
   "cell_type": "code",
   "execution_count": 14,
   "id": "891b9c9d",
   "metadata": {},
   "outputs": [
    {
     "data": {
      "text/plain": [
       "Avg. Area Income                float64\n",
       "Avg. Area House Age             float64\n",
       "Avg. Area Number of Rooms       float64\n",
       "Avg. Area Number of Bedrooms    float64\n",
       "Area Population                 float64\n",
       "Price                           float64\n",
       "Address                          object\n",
       "dtype: object"
      ]
     },
     "execution_count": 14,
     "metadata": {},
     "output_type": "execute_result"
    }
   ],
   "source": [
    "data.dtypes"
   ]
  },
  {
   "cell_type": "code",
   "execution_count": 15,
   "id": "9b958742",
   "metadata": {},
   "outputs": [
    {
     "data": {
      "text/html": [
       "<div>\n",
       "<style scoped>\n",
       "    .dataframe tbody tr th:only-of-type {\n",
       "        vertical-align: middle;\n",
       "    }\n",
       "\n",
       "    .dataframe tbody tr th {\n",
       "        vertical-align: top;\n",
       "    }\n",
       "\n",
       "    .dataframe thead th {\n",
       "        text-align: right;\n",
       "    }\n",
       "</style>\n",
       "<table border=\"1\" class=\"dataframe\">\n",
       "  <thead>\n",
       "    <tr style=\"text-align: right;\">\n",
       "      <th></th>\n",
       "      <th>Avg. Area Income</th>\n",
       "      <th>Avg. Area House Age</th>\n",
       "      <th>Avg. Area Number of Rooms</th>\n",
       "      <th>Avg. Area Number of Bedrooms</th>\n",
       "      <th>Area Population</th>\n",
       "      <th>Price</th>\n",
       "    </tr>\n",
       "  </thead>\n",
       "  <tbody>\n",
       "    <tr>\n",
       "      <th>Avg. Area Income</th>\n",
       "      <td>1.000000</td>\n",
       "      <td>-0.002007</td>\n",
       "      <td>-0.011032</td>\n",
       "      <td>0.019788</td>\n",
       "      <td>-0.016234</td>\n",
       "      <td>0.639734</td>\n",
       "    </tr>\n",
       "    <tr>\n",
       "      <th>Avg. Area House Age</th>\n",
       "      <td>-0.002007</td>\n",
       "      <td>1.000000</td>\n",
       "      <td>-0.009428</td>\n",
       "      <td>0.006149</td>\n",
       "      <td>-0.018743</td>\n",
       "      <td>0.452543</td>\n",
       "    </tr>\n",
       "    <tr>\n",
       "      <th>Avg. Area Number of Rooms</th>\n",
       "      <td>-0.011032</td>\n",
       "      <td>-0.009428</td>\n",
       "      <td>1.000000</td>\n",
       "      <td>0.462695</td>\n",
       "      <td>0.002040</td>\n",
       "      <td>0.335664</td>\n",
       "    </tr>\n",
       "    <tr>\n",
       "      <th>Avg. Area Number of Bedrooms</th>\n",
       "      <td>0.019788</td>\n",
       "      <td>0.006149</td>\n",
       "      <td>0.462695</td>\n",
       "      <td>1.000000</td>\n",
       "      <td>-0.022168</td>\n",
       "      <td>0.171071</td>\n",
       "    </tr>\n",
       "    <tr>\n",
       "      <th>Area Population</th>\n",
       "      <td>-0.016234</td>\n",
       "      <td>-0.018743</td>\n",
       "      <td>0.002040</td>\n",
       "      <td>-0.022168</td>\n",
       "      <td>1.000000</td>\n",
       "      <td>0.408556</td>\n",
       "    </tr>\n",
       "    <tr>\n",
       "      <th>Price</th>\n",
       "      <td>0.639734</td>\n",
       "      <td>0.452543</td>\n",
       "      <td>0.335664</td>\n",
       "      <td>0.171071</td>\n",
       "      <td>0.408556</td>\n",
       "      <td>1.000000</td>\n",
       "    </tr>\n",
       "  </tbody>\n",
       "</table>\n",
       "</div>"
      ],
      "text/plain": [
       "                              Avg. Area Income  Avg. Area House Age  \\\n",
       "Avg. Area Income                      1.000000            -0.002007   \n",
       "Avg. Area House Age                  -0.002007             1.000000   \n",
       "Avg. Area Number of Rooms            -0.011032            -0.009428   \n",
       "Avg. Area Number of Bedrooms          0.019788             0.006149   \n",
       "Area Population                      -0.016234            -0.018743   \n",
       "Price                                 0.639734             0.452543   \n",
       "\n",
       "                              Avg. Area Number of Rooms  \\\n",
       "Avg. Area Income                              -0.011032   \n",
       "Avg. Area House Age                           -0.009428   \n",
       "Avg. Area Number of Rooms                      1.000000   \n",
       "Avg. Area Number of Bedrooms                   0.462695   \n",
       "Area Population                                0.002040   \n",
       "Price                                          0.335664   \n",
       "\n",
       "                              Avg. Area Number of Bedrooms  Area Population  \\\n",
       "Avg. Area Income                                  0.019788        -0.016234   \n",
       "Avg. Area House Age                               0.006149        -0.018743   \n",
       "Avg. Area Number of Rooms                         0.462695         0.002040   \n",
       "Avg. Area Number of Bedrooms                      1.000000        -0.022168   \n",
       "Area Population                                  -0.022168         1.000000   \n",
       "Price                                             0.171071         0.408556   \n",
       "\n",
       "                                 Price  \n",
       "Avg. Area Income              0.639734  \n",
       "Avg. Area House Age           0.452543  \n",
       "Avg. Area Number of Rooms     0.335664  \n",
       "Avg. Area Number of Bedrooms  0.171071  \n",
       "Area Population               0.408556  \n",
       "Price                         1.000000  "
      ]
     },
     "execution_count": 15,
     "metadata": {},
     "output_type": "execute_result"
    }
   ],
   "source": [
    "data.corr()"
   ]
  },
  {
   "cell_type": "markdown",
   "id": "eee269a4",
   "metadata": {},
   "source": [
    "### heatmap showing the correlation coefficients between all pairs of features in the dataset."
   ]
  },
  {
   "cell_type": "code",
   "execution_count": 16,
   "id": "7131e3ae",
   "metadata": {},
   "outputs": [
    {
     "data": {
      "image/png": "[encoded data removed]",
      "text/plain": [
       "<Figure size 432x288 with 2 Axes>"
      ]
     },
     "metadata": {
      "needs_background": "light"
     },
     "output_type": "display_data"
    }
   ],
   "source": [
    "corr_matrix = data.corr()\n",
    "sns.heatmap(corr_matrix,cmap='coolwarm',annot=True);"
   ]
  },
  {
   "cell_type": "markdown",
   "id": "8c3705a4",
   "metadata": {},
   "source": [
    "### Preprocess the data"
   ]
  },
  {
   "cell_type": "code",
   "execution_count": 17,
   "id": "cfd91770",
   "metadata": {},
   "outputs": [
    {
     "data": {
      "text/plain": [
       "Avg. Area Income                0\n",
       "Avg. Area House Age             0\n",
       "Avg. Area Number of Rooms       0\n",
       "Avg. Area Number of Bedrooms    0\n",
       "Area Population                 0\n",
       "Price                           0\n",
       "Address                         0\n",
       "dtype: int64"
      ]
     },
     "execution_count": 17,
     "metadata": {},
     "output_type": "execute_result"
    }
   ],
   "source": [
    "data.isna().sum()"
   ]
  },
  {
   "cell_type": "markdown",
   "id": "7fcc755d",
   "metadata": {},
   "source": [
    "# Linear Regression"
   ]
  },
  {
   "cell_type": "markdown",
   "id": "a3ae2c44",
   "metadata": {},
   "source": [
    "# X= Independent variable='Avg. Area Income '"
   ]
  },
  {
   "cell_type": "markdown",
   "id": "b17f7250",
   "metadata": {},
   "source": [
    "# Y=Target variable \\ Dependent variable ='Price'\n"
   ]
  },
  {
   "cell_type": "code",
   "execution_count": 18,
   "id": "0139d0c0",
   "metadata": {},
   "outputs": [
    {
     "data": {
      "text/plain": [
       "array([[79545.45857432],\n",
       "       [79248.64245483],\n",
       "       [61287.06717866],\n",
       "       ...,\n",
       "       [63390.6868855 ],\n",
       "       [68001.33123509],\n",
       "       [65510.58180367]])"
      ]
     },
     "execution_count": 18,
     "metadata": {},
     "output_type": "execute_result"
    }
   ],
   "source": [
    "x = data.iloc[: ,0:1].values\n",
    "x"
   ]
  },
  {
   "cell_type": "code",
   "execution_count": 19,
   "id": "d993cde9",
   "metadata": {},
   "outputs": [
    {
     "data": {
      "text/plain": [
       "array([[1059033.55787012],\n",
       "       [1505890.91484695],\n",
       "       [1058987.98787608],\n",
       "       ...,\n",
       "       [1030729.58315229],\n",
       "       [1198656.87240769],\n",
       "       [1298950.48026696]])"
      ]
     },
     "execution_count": 19,
     "metadata": {},
     "output_type": "execute_result"
    }
   ],
   "source": [
    "y=data.iloc[:,5:6].values\n",
    "y"
   ]
  },
  {
   "cell_type": "code",
   "execution_count": 23,
   "id": "3be5d624",
   "metadata": {},
   "outputs": [],
   "source": [
    "x_train,x_test,y_train,y_test=train_test_split(x,y,test_size=0.3,random_state=42)"
   ]
  },
  {
   "cell_type": "code",
   "execution_count": 24,
   "id": "8eef4c55",
   "metadata": {},
   "outputs": [],
   "source": [
    "#Implement classifier based on Simple linear regression\n",
    "from sklearn.linear_model import LinearRegression\n",
    "model = LinearRegression()\n"
   ]
  },
  {
   "cell_type": "code",
   "execution_count": 25,
   "id": "21d25c0b",
   "metadata": {},
   "outputs": [
    {
     "data": {
      "text/plain": [
       "LinearRegression()"
      ]
     },
     "execution_count": 25,
     "metadata": {},
     "output_type": "execute_result"
    }
   ],
   "source": [
    "model.fit(x_train, y_train)"
   ]
  },
  {
   "cell_type": "code",
   "execution_count": 28,
   "id": "91d74810",
   "metadata": {},
   "outputs": [
    {
     "data": {
      "text/plain": [
       "array([[1085358.91824005],\n",
       "       [ 983853.71225827],\n",
       "       [1262464.24172376],\n",
       "       ...,\n",
       "       [1122942.92094224],\n",
       "       [ 960627.03940555],\n",
       "       [1189412.71698593]])"
      ]
     },
     "execution_count": 28,
     "metadata": {},
     "output_type": "execute_result"
    }
   ],
   "source": [
    "predictions = model.predict(x_test)  # x test varun y test value predict keli\n",
    "predictions"
   ]
  },
  {
   "cell_type": "code",
   "execution_count": 29,
   "id": "9fc8f583",
   "metadata": {},
   "outputs": [
    {
     "data": {
      "text/plain": [
       "array([[1339096.07724513],\n",
       "       [1251794.17883686],\n",
       "       [1340094.96620542],\n",
       "       ...,\n",
       "       [1472887.24706053],\n",
       "       [1409762.1194903 ],\n",
       "       [1009606.28363319]])"
      ]
     },
     "execution_count": 29,
     "metadata": {},
     "output_type": "execute_result"
    }
   ],
   "source": [
    "y_test"
   ]
  },
  {
   "cell_type": "code",
   "execution_count": 30,
   "id": "b9822e6f",
   "metadata": {},
   "outputs": [
    {
     "data": {
      "text/plain": [
       "<AxesSubplot:ylabel='Density'>"
      ]
     },
     "execution_count": 30,
     "metadata": {},
     "output_type": "execute_result"
    },
    {
     "data": {
      "image/png": "[encoded data removed]",
      "text/plain": [
       "<Figure size 432x288 with 1 Axes>"
      ]
     },
     "metadata": {
      "needs_background": "light"
     },
     "output_type": "display_data"
    }
   ],
   "source": [
    "import seaborn as sns\n",
    "sns.distplot(predictions-y_test)"
   ]
  },
  {
   "cell_type": "code",
   "execution_count": 31,
   "id": "79d7ebd8",
   "metadata": {},
   "outputs": [
    {
     "data": {
      "text/plain": [
       "[<matplotlib.lines.Line2D at 0x16f46da49a0>]"
      ]
     },
     "execution_count": 31,
     "metadata": {},
     "output_type": "execute_result"
    },
    {
     "data": {
      "image/png": "[encoded data removed]",
      "text/plain": [
       "<Figure size 432x288 with 1 Axes>"
      ]
     },
     "metadata": {
      "needs_background": "light"
     },
     "output_type": "display_data"
    }
   ],
   "source": [
    "#Plotting the Best-fit Linear Regression Graph\n",
    "plt.scatter(x_train, y_train, color='red')\n",
    "plt.plot(x_train, model.predict(x_train))"
   ]
  },
  {
   "cell_type": "code",
   "execution_count": 32,
   "id": "45e6b7c3",
   "metadata": {},
   "outputs": [
    {
     "data": {
      "text/plain": [
       "0.41517344376086807"
      ]
     },
     "execution_count": 32,
     "metadata": {},
     "output_type": "execute_result"
    }
   ],
   "source": [
    "# Accuracy\n",
    "model.score(x_train,y_train)"
   ]
  },
  {
   "cell_type": "code",
   "execution_count": 35,
   "id": "ca33c6d4",
   "metadata": {},
   "outputs": [],
   "source": [
    "from sklearn import metrics"
   ]
  },
  {
   "cell_type": "code",
   "execution_count": 19,
   "id": "0fab4b32",
   "metadata": {},
   "outputs": [
    {
     "data": {
      "text/plain": [
       "214070.0765807124"
      ]
     },
     "execution_count": 19,
     "metadata": {},
     "output_type": "execute_result"
    }
   ],
   "source": [
    "metrics.mean_absolute_error(y_test,predictions)"
   ]
  },
  {
   "cell_type": "code",
   "execution_count": 20,
   "id": "03c2b445",
   "metadata": {},
   "outputs": [
    {
     "data": {
      "text/plain": [
       "71606719101.03638"
      ]
     },
     "execution_count": 20,
     "metadata": {},
     "output_type": "execute_result"
    }
   ],
   "source": [
    "metrics.mean_squared_error(y_test,predictions)"
   ]
  },
  {
   "cell_type": "code",
   "execution_count": 21,
   "id": "3a8321a0",
   "metadata": {},
   "outputs": [
    {
     "data": {
      "text/plain": [
       "267594.31814042013"
      ]
     },
     "execution_count": 21,
     "metadata": {},
     "output_type": "execute_result"
    }
   ],
   "source": [
    "# Root Mean squared error\n",
    "np.sqrt(metrics.mean_squared_error(y_test,predictions))"
   ]
  },
  {
   "cell_type": "code",
   "execution_count": 22,
   "id": "6a34c145",
   "metadata": {},
   "outputs": [],
   "source": [
    "# r2 squared\n",
    "from sklearn.metrics import r2_score"
   ]
  },
  {
   "cell_type": "code",
   "execution_count": 23,
   "id": "39716bb5",
   "metadata": {},
   "outputs": [
    {
     "data": {
      "text/plain": [
       "0.39321648659430386"
      ]
     },
     "execution_count": 23,
     "metadata": {},
     "output_type": "execute_result"
    }
   ],
   "source": [
    "# error matrix\n",
    "r2_score(y_test,predictions)"
   ]
  },
  {
   "cell_type": "markdown",
   "id": "d9bab033",
   "metadata": {},
   "source": [
    "# Interpretation "
   ]
  },
  {
   "cell_type": "markdown",
   "id": "5e48628c",
   "metadata": {},
   "source": [
    "###  US House Pricing  data i take dependent(Target) Variable as price and independent variable as Avg. Area Income beacause avg area income is highly correlated with price. The accuracy of linear regression is 39% which is not Good for our model so we can not go with this model "
   ]
  },
  {
   "cell_type": "code",
   "execution_count": null,
   "id": "1aebf0d6",
   "metadata": {},
   "outputs": [],
   "source": []
  },
  {
   "cell_type": "code",
   "execution_count": null,
   "id": "9a526bdc",
   "metadata": {},
   "outputs": [],
   "source": []
  },
  {
   "cell_type": "markdown",
   "id": "79373417",
   "metadata": {},
   "source": [
    "# Multiple Regression"
   ]
  },
  {
   "cell_type": "markdown",
   "id": "694bc285",
   "metadata": {},
   "source": [
    "# Target variable \\ Dependent variable ='Price'"
   ]
  },
  {
   "cell_type": "markdown",
   "id": "d398e99b",
   "metadata": {},
   "source": [
    "# Independent variable=Avg. Area Income,Avg. Area House Age,Area Population"
   ]
  },
  {
   "cell_type": "code",
   "execution_count": 37,
   "id": "d7be1b81",
   "metadata": {},
   "outputs": [
    {
     "data": {
      "text/html": [
       "<div>\n",
       "<style scoped>\n",
       "    .dataframe tbody tr th:only-of-type {\n",
       "        vertical-align: middle;\n",
       "    }\n",
       "\n",
       "    .dataframe tbody tr th {\n",
       "        vertical-align: top;\n",
       "    }\n",
       "\n",
       "    .dataframe thead th {\n",
       "        text-align: right;\n",
       "    }\n",
       "</style>\n",
       "<table border=\"1\" class=\"dataframe\">\n",
       "  <thead>\n",
       "    <tr style=\"text-align: right;\">\n",
       "      <th></th>\n",
       "      <th>Avg. Area Income</th>\n",
       "      <th>Avg. Area House Age</th>\n",
       "      <th>Area Population</th>\n",
       "    </tr>\n",
       "  </thead>\n",
       "  <tbody>\n",
       "    <tr>\n",
       "      <th>0</th>\n",
       "      <td>79545.458574</td>\n",
       "      <td>5.682861</td>\n",
       "      <td>23086.800503</td>\n",
       "    </tr>\n",
       "    <tr>\n",
       "      <th>1</th>\n",
       "      <td>79248.642455</td>\n",
       "      <td>6.002900</td>\n",
       "      <td>40173.072174</td>\n",
       "    </tr>\n",
       "    <tr>\n",
       "      <th>2</th>\n",
       "      <td>61287.067179</td>\n",
       "      <td>5.865890</td>\n",
       "      <td>36882.159400</td>\n",
       "    </tr>\n",
       "    <tr>\n",
       "      <th>3</th>\n",
       "      <td>63345.240046</td>\n",
       "      <td>7.188236</td>\n",
       "      <td>34310.242831</td>\n",
       "    </tr>\n",
       "    <tr>\n",
       "      <th>4</th>\n",
       "      <td>59982.197226</td>\n",
       "      <td>5.040555</td>\n",
       "      <td>26354.109472</td>\n",
       "    </tr>\n",
       "    <tr>\n",
       "      <th>...</th>\n",
       "      <td>...</td>\n",
       "      <td>...</td>\n",
       "      <td>...</td>\n",
       "    </tr>\n",
       "    <tr>\n",
       "      <th>4995</th>\n",
       "      <td>60567.944140</td>\n",
       "      <td>7.830362</td>\n",
       "      <td>22837.361035</td>\n",
       "    </tr>\n",
       "    <tr>\n",
       "      <th>4996</th>\n",
       "      <td>78491.275435</td>\n",
       "      <td>6.999135</td>\n",
       "      <td>25616.115489</td>\n",
       "    </tr>\n",
       "    <tr>\n",
       "      <th>4997</th>\n",
       "      <td>63390.686886</td>\n",
       "      <td>7.250591</td>\n",
       "      <td>33266.145490</td>\n",
       "    </tr>\n",
       "    <tr>\n",
       "      <th>4998</th>\n",
       "      <td>68001.331235</td>\n",
       "      <td>5.534388</td>\n",
       "      <td>42625.620156</td>\n",
       "    </tr>\n",
       "    <tr>\n",
       "      <th>4999</th>\n",
       "      <td>65510.581804</td>\n",
       "      <td>5.992305</td>\n",
       "      <td>46501.283803</td>\n",
       "    </tr>\n",
       "  </tbody>\n",
       "</table>\n",
       "<p>5000 rows × 3 columns</p>\n",
       "</div>"
      ],
      "text/plain": [
       "      Avg. Area Income  Avg. Area House Age  Area Population\n",
       "0         79545.458574             5.682861     23086.800503\n",
       "1         79248.642455             6.002900     40173.072174\n",
       "2         61287.067179             5.865890     36882.159400\n",
       "3         63345.240046             7.188236     34310.242831\n",
       "4         59982.197226             5.040555     26354.109472\n",
       "...                ...                  ...              ...\n",
       "4995      60567.944140             7.830362     22837.361035\n",
       "4996      78491.275435             6.999135     25616.115489\n",
       "4997      63390.686886             7.250591     33266.145490\n",
       "4998      68001.331235             5.534388     42625.620156\n",
       "4999      65510.581804             5.992305     46501.283803\n",
       "\n",
       "[5000 rows x 3 columns]"
      ]
     },
     "execution_count": 37,
     "metadata": {},
     "output_type": "execute_result"
    }
   ],
   "source": [
    "x=data[['Avg. Area Income','Avg. Area House Age','Area Population']]\n",
    "x"
   ]
  },
  {
   "cell_type": "code",
   "execution_count": 38,
   "id": "82e372c6",
   "metadata": {},
   "outputs": [
    {
     "data": {
      "text/plain": [
       "0       1.059034e+06\n",
       "1       1.505891e+06\n",
       "2       1.058988e+06\n",
       "3       1.260617e+06\n",
       "4       6.309435e+05\n",
       "            ...     \n",
       "4995    1.060194e+06\n",
       "4996    1.482618e+06\n",
       "4997    1.030730e+06\n",
       "4998    1.198657e+06\n",
       "4999    1.298950e+06\n",
       "Name: Price, Length: 5000, dtype: float64"
      ]
     },
     "execution_count": 38,
     "metadata": {},
     "output_type": "execute_result"
    }
   ],
   "source": [
    "y=data['Price']\n",
    "y"
   ]
  },
  {
   "cell_type": "code",
   "execution_count": 39,
   "id": "b803878e",
   "metadata": {},
   "outputs": [],
   "source": [
    "x_train,x_test,y_train,y_test=train_test_split(x,y,test_size=0.2,random_state=42)"
   ]
  },
  {
   "cell_type": "code",
   "execution_count": 40,
   "id": "712b3c23",
   "metadata": {},
   "outputs": [
    {
     "data": {
      "text/plain": [
       "LinearRegression()"
      ]
     },
     "execution_count": 40,
     "metadata": {},
     "output_type": "execute_result"
    }
   ],
   "source": [
    "#Implement classifier based on Multiple regression\n",
    "from sklearn.linear_model import LinearRegression\n",
    "model = LinearRegression()\n",
    "model.fit(x_train, y_train)"
   ]
  },
  {
   "cell_type": "code",
   "execution_count": 41,
   "id": "b69774a7",
   "metadata": {},
   "outputs": [
    {
     "data": {
      "text/plain": [
       "array([1373088.49178339, 1244916.2342594 , 1285455.50871436,\n",
       "       1121781.17819841, 1127620.66135206, 1479196.29605811,\n",
       "        922947.95949667,  963485.58583105,  880128.84070255,\n",
       "       1493389.77508039,  745348.50975573, 1625245.57382645,\n",
       "       1029455.23616514, 1483823.51483058, 1209131.6991227 ,\n",
       "       1059090.10960688, 1510655.43702494, 1090731.69699633,\n",
       "        846141.14943254, 1034703.59961434, 1268098.08598637,\n",
       "       1196338.47466039, 1675284.74618641, 1336467.258261  ,\n",
       "       1559620.29300659, 1087222.85694053, 1104094.56692888,\n",
       "       1028828.74627719,  871515.23184159, 1688116.11551614,\n",
       "       1318633.32755853, 1540280.39108594, 1240597.42934604,\n",
       "       1084517.11652476, 1495874.1229964 , 1706073.19418753,\n",
       "       1397987.97328448,  747138.57388794, 1617046.09119019,\n",
       "       1235892.34322795, 1628921.05260292,  987584.2326885 ,\n",
       "       1215110.55337737,  904793.76121302, 1176675.20733778,\n",
       "       1096280.0355695 , 1267064.67824468, 1536590.18292519,\n",
       "       1537162.93475127, 1518024.66350344, 1368067.81331447,\n",
       "       1235258.83141291, 1009349.68931229, 1012309.89366354,\n",
       "       1630150.2301317 , 1742160.5579762 , 1167663.77131147,\n",
       "       1317014.16981631, 1170506.23658014, 1442121.6652912 ,\n",
       "        928180.61603034,  690796.21157965, 1481946.75809887,\n",
       "       1298404.50472251,  970773.58031863, 1469220.90938269,\n",
       "       1641484.31137725, 1236692.26209486, 1605446.22494743,\n",
       "       1569964.0053702 , 1101707.74483597, 1389245.60105618,\n",
       "       1075940.46712934,  726541.83280952,  653360.17988475,\n",
       "       1547116.57037328, 1283414.3559935 ,  953749.19381284,\n",
       "       1820154.92620289,  435323.96656149, 1730032.24702762,\n",
       "       1275270.83904633,  477773.22082378,  463328.24474323,\n",
       "       1319439.67603695,  855352.77435666,  715749.66314323,\n",
       "       1024672.39996628, 1442378.03296558, 1364166.34741078,\n",
       "       1123373.78581145, 1505219.66757074,  864243.46472156,\n",
       "       1320815.43138472, 1469716.85345746,  904664.69832321,\n",
       "       1136107.00797944,  996424.56903289, 1311837.27813225,\n",
       "       1348455.03976802,  582468.20729673, 1147702.71586567,\n",
       "       1324966.58489223, 1882491.15426398, 2002634.98248034,\n",
       "       1106312.42086475, 1204020.75103924,  997008.98014037,\n",
       "       1878356.84281139, 1686305.34959196, 1698214.73770898,\n",
       "       1428945.49623449, 1722571.529439  , 1151796.69709284,\n",
       "        950010.42694476, 1601213.43434856,  809472.70743334,\n",
       "       1223684.84231841, 1166358.17027984, 1550407.39929616,\n",
       "       1799482.8362582 , 1376894.79184034, 1549108.67902866,\n",
       "       1407551.10814342, 1853878.04770606, 1018464.27514526,\n",
       "        786795.84192481, 1088964.31669021, 1396186.95732789,\n",
       "       1589654.23549788, 1224683.22307908, 1159954.68477442,\n",
       "       1432072.68152662, 1321446.06211896, 1343399.23914668,\n",
       "       1542686.61659394, 1691732.64020137, 1213471.94930613,\n",
       "        728466.8614013 , 1407296.76070202, 1717059.43040117,\n",
       "       1034994.03705569, 1705741.59855629, 1306603.22180195,\n",
       "       1797298.62879217,  995176.16304031,  922616.21990144,\n",
       "       1154151.34823384, 1166574.68870249, 1499198.80519973,\n",
       "       1071631.94379401, 1069172.43698742, 1453333.8421827 ,\n",
       "       1460748.82526316, 1281622.7286565 ,  841321.63793317,\n",
       "       1536975.67451434,  805493.74710785, 2048866.73946409,\n",
       "       1153005.00947386, 1382085.61709355, 1437204.7308003 ,\n",
       "        940404.87559163, 1756359.88118045, 1293213.79584831,\n",
       "        827175.64764259,  819489.33464533, 1632377.09155065,\n",
       "       1186992.02383231, 1829972.60174777, 1534367.59267298,\n",
       "       1011826.53210257, 1788712.23889177,  782611.0281764 ,\n",
       "       1401312.68919378, 1598619.36297104, 1476212.50034376,\n",
       "        813793.84672795,  930062.08106244,  575207.76518813,\n",
       "        777948.19663164, 1162993.72162425,  984078.91650308,\n",
       "       1206050.6338464 ,  934317.4868577 ,  595786.95310424,\n",
       "       1302772.37413008,  943643.04166992, 1493906.50777385,\n",
       "       1389728.82776014, 1201048.53205695, 1286804.47129373,\n",
       "       1036387.32147134, 1052308.09864886, 1404852.43868909,\n",
       "       1815939.25189077, 1273363.95130859, 1230297.93979378,\n",
       "       1200788.48024073,  929591.62049641, 1281410.94294179,\n",
       "       1468546.74384098, 1509753.87787618,  962343.23952842,\n",
       "        885591.50166815, 1477192.25204586, 1546996.73484182,\n",
       "        669117.55531313, 1016927.84962587, 1578811.03264498,\n",
       "       1195191.72024557,  964165.15833873, 1428097.51676425,\n",
       "       1059579.02942009,  831969.77252565, 1816740.69615044,\n",
       "       1104047.47244403,  564432.47828017, 1557786.42861867,\n",
       "       1247372.30914239, 1290508.84915892, 1167272.96767539,\n",
       "        621391.79913188, 1105313.13327314, 1513624.03241171,\n",
       "        809327.91921938, 1122107.31474883, 1617436.87486442,\n",
       "       1713585.39151127, 1856265.18531735, 1188162.80732503,\n",
       "       1122989.51310542,  930927.05712776, 1027815.05275698,\n",
       "       1532662.27054817, 1371620.60124021, 1461494.16274911,\n",
       "       1192942.3121228 ,  875880.73647131, 1377962.79165037,\n",
       "       1787415.72341851, 1300334.94065294, 1318016.80484785,\n",
       "       1536381.72456546, 1629549.80559757,  656381.84222376,\n",
       "       1349705.09581716, 1431926.73018604, 1094105.50944851,\n",
       "        691044.217864  , 1448140.67202716, 1397316.80821201,\n",
       "       1577606.39485868, 1187467.60570082, 1802196.1817211 ,\n",
       "        768255.51501712, 1772272.11026566,  929259.0636361 ,\n",
       "       1725409.68445407, 1916140.37278245, 1251544.02188137,\n",
       "        862240.14277827, 1587445.93831893,  493021.94313313,\n",
       "       1999332.43919201,  699634.55658098, 1831245.94755998,\n",
       "       1234826.41374582, 1290060.63201569, 1184082.36318418,\n",
       "       1590678.09949437, 1298981.67398373, 1074989.85567955,\n",
       "        916485.1406284 , 1288965.35561927,  819152.8748976 ,\n",
       "       1649021.31262078, 1364203.57353447,  438412.97300899,\n",
       "       1218491.41009138, 1306255.28642923, 1243667.02293085,\n",
       "       1081127.18016485, 1368967.47417409, 1529746.02869855,\n",
       "       1632228.45070126, 1076200.55091702,  682752.63550463,\n",
       "        852159.69128615, 1360887.45660127, 1490380.32699644,\n",
       "       1218782.4660996 , 1408436.52108216, 1066488.56224282,\n",
       "       2110579.2729799 , 1489893.26555881, 1512699.53263123,\n",
       "       1086131.41487744,  705408.31044423, 1707339.84937955,\n",
       "       1348927.30268191, 1270536.07379422, 1310212.85020952,\n",
       "       1070508.97570312, 1814134.90931835, 1618053.45509289,\n",
       "       1580294.11139935, 1463458.79713222, 1525077.55100839,\n",
       "        676084.09439383, 1308728.9391558 , 1278379.26565991,\n",
       "       1760390.7017491 , 1260692.0089024 , 1384481.57622047,\n",
       "       1106355.41747829, 1025495.02674128, 1689330.64736689,\n",
       "       1303015.43969617,  665443.37600018, 1328456.78234529,\n",
       "       1280162.17751649, 1140137.6265428 , 1035228.66550593,\n",
       "       1199834.82436666,  839549.71037299,  891990.4854599 ,\n",
       "        992136.32478816, 1455095.79004328,  568268.20978816,\n",
       "       1089358.96283531, 1216020.51262436,  863976.24653079,\n",
       "        665244.67153951,  873193.13800275,  954435.54112401,\n",
       "       1367847.4153279 , 1301070.68812155, 1024662.22565859,\n",
       "       1493167.15990923, 1398370.5918706 , 1581364.62321735,\n",
       "       1400993.16540742, 1383358.22941684, 1417265.81160202,\n",
       "       1246825.26787211, 1375723.36023056, 1609116.74410764,\n",
       "       1260070.0552444 , 1318717.57879686, 1436435.08993446,\n",
       "       1465415.12493573, 1482559.43419218, 1423349.33440564,\n",
       "       1051302.07418804, 1430606.28090039, 1242360.51159038,\n",
       "       1513548.11629512, 1224614.46546941, 1388228.80725073,\n",
       "       1468425.397791  ,  573555.93864079, 1147618.31555079,\n",
       "       1551513.2494244 , 1089251.42784393,  964291.41489864,\n",
       "       1245687.95357555, 1405672.45483214, 1263551.5761232 ,\n",
       "       1086351.9235674 , 1798447.60383249, 1902292.20704086,\n",
       "       1044878.94529698, 1492289.30467497, 1238124.30775959,\n",
       "       1291496.82362201, 1228299.08589427,  962998.41221424,\n",
       "       1370935.56736273, 1321743.05061232,  992699.305678  ,\n",
       "        481428.70195545, 1220855.27951731, 1348648.3689049 ,\n",
       "       1227206.19641707, 1650788.87340217, 1549130.14536769,\n",
       "       1209305.61144444, 1069317.00841981, 1338894.4778273 ,\n",
       "        572884.71682991, 1636770.63625407,  943049.84774298,\n",
       "       1347226.47519256, 1268299.1939987 , 1250972.4372587 ,\n",
       "        816577.14077776,  914517.08002106,  715771.90883322,\n",
       "       1586165.10512206,  303367.01238759, 1336860.7190351 ,\n",
       "        908480.21369711,  843290.33961667, 1277458.39036327,\n",
       "       1189331.41863296,  867371.93019878,  917037.26986495,\n",
       "       1536620.31733283, 1582762.34604987, 1185591.28614402,\n",
       "        706695.27398538, 1356370.9278774 , 1279831.93353237,\n",
       "       1549730.18073704, 1228638.16809295, 1438308.27469343,\n",
       "       1158069.50431044, 1342905.5508722 ,  640417.84536508,\n",
       "       1050969.68352512, 1334181.04614185, 1045012.05202982,\n",
       "       1177580.70347737, 1466747.62293796, 1210718.93212648,\n",
       "       1602085.18140417,  786732.14999781, 1451246.17024316,\n",
       "       1254419.72832897, 1167514.82287014, 1319612.11027075,\n",
       "       1197368.03226279, 1078130.54351473, 1461706.4151337 ,\n",
       "        759772.21373642, 1134089.58567255, 1508732.12173751,\n",
       "        978874.96749244, 1190253.69024378, 1036439.66589053,\n",
       "       1355639.38385694, 1328393.81479691, 1465252.67765878,\n",
       "       1179326.03700597, 1604226.07775693, 1736036.14727762,\n",
       "       1274424.77174172, 1028151.30597003, 1396422.77260224,\n",
       "       1281763.36801267, 1497023.41750158, 1589629.08333714,\n",
       "        618042.41797666, 1480150.90196686,  943694.41468691,\n",
       "        877789.53488901, 1658876.18994172, 1415538.07418652,\n",
       "       1279509.44262703, 1752459.69696876, 1057852.30451272,\n",
       "       1366327.96370976, 1571249.92944485, 1012670.07080235,\n",
       "       1297998.59576949, 1261526.06802902,  799396.89718163,\n",
       "       1055191.67324772,  823614.62552704, 1233531.68246468,\n",
       "       1085610.13938328, 1271891.20220622, 1478086.89480385,\n",
       "       1516983.409661  , 1541331.92788549, 1296386.81389461,\n",
       "        991006.51888968,  921322.5651264 ,  793340.21563987,\n",
       "        873262.08583811, 1196207.68410751,  877708.28790802,\n",
       "       1711694.02624134,  975157.91950483,  781297.74742712,\n",
       "       1528840.67600553, 1172658.78108829, 1254183.25197264,\n",
       "       1185071.84962725, 1212460.40920171, 1200283.6389258 ,\n",
       "       1349175.58019519, 1329205.15616416, 1233815.32396935,\n",
       "        749660.45612315, 1066821.48166479,  671891.78883783,\n",
       "       1168749.55302421, 1379428.10700219, 1414794.61857115,\n",
       "       1096086.24695835, 1396514.92850046, 1302839.27513429,\n",
       "       1221482.65843855, 1198178.57261459, 1183277.53627983,\n",
       "       1149661.41877244,  905981.06397189, 1012069.6359024 ,\n",
       "        775192.08916566,  690673.94689969,  888095.11852951,\n",
       "        941795.89440549, 1271286.87429181, 1501684.56494478,\n",
       "       1090064.62237369, 1643398.16201126, 1205868.35053022,\n",
       "       1110320.09910704, 1144931.2552463 , 1238435.76280365,\n",
       "        883127.29890134,  900345.7118302 ,  911642.98740785,\n",
       "       1369317.04728776, 1611356.65497547, 1078924.05066976,\n",
       "       1176388.37011343, 1470086.84752887, 1567172.11048594,\n",
       "       1559008.75594334, 1762689.80015905,  987092.25616664,\n",
       "       1198788.83244137, 1016063.36810858, 1229791.32398657,\n",
       "       1401413.85794659, 1027351.89725378, 1102761.59060331,\n",
       "       1277490.44664812, 1759167.91324631, 1656457.32045728,\n",
       "       1073383.29389897, 1337525.55421919, 1335249.48658229,\n",
       "       1526022.08118027, 1521468.5911539 ,  534273.79702265,\n",
       "       1456904.49024083, 1071738.98619997, 1033424.95924014,\n",
       "       1420174.98107165, 1847371.89789288,  921263.82665934,\n",
       "       1346306.72368626,  489755.15491727,  996982.7557938 ,\n",
       "       1364720.95314575, 1261619.73761071, 1085788.39810328,\n",
       "       1428432.01377216, 1097868.34685754, 1719013.89500195,\n",
       "       1354375.76230183, 1365504.3860164 , 1449264.54342782,\n",
       "       1124484.52670968, 1131558.01882367, 1547690.35337607,\n",
       "       1621006.7304313 , 1620578.01829237, 1584004.62065994,\n",
       "       1292931.16233232, 1032639.38546586, 1167280.04999115,\n",
       "       1579275.27295344, 1401877.87740277,  889709.27717588,\n",
       "       1443295.63089182,  988828.10790548, 1353607.78978383,\n",
       "        595271.40174972, 1313953.91777253, 1414378.40679539,\n",
       "       1278164.52336659, 1872533.07063382, 1668908.65367784,\n",
       "        560962.28089131, 1561311.84482587, 1374110.70444986,\n",
       "        930443.56422184, 1051269.14748777, 1430855.9521962 ,\n",
       "        744833.38224218, 1079267.59513934, 1120428.5196314 ,\n",
       "       1073966.13188897, 1393774.91523239, 1124286.37853189,\n",
       "       1152679.00039666, 1172421.82880024, 1234798.41809914,\n",
       "        812717.99980352, 1532108.33126592, 1809252.83721143,\n",
       "        928032.18984739, 1408741.65665549, 1301248.17603571,\n",
       "       1417838.61530122,  986259.73787207,  510070.06081582,\n",
       "       1346237.28278354, 1215313.23609408, 1431620.37588009,\n",
       "       1025751.79346665, 1159480.37759832,  926686.78789664,\n",
       "        718263.63749341, 1325101.02204444, 1072300.66314319,\n",
       "       1505840.59822638, 1025311.72762561, 1793898.02369176,\n",
       "       1598773.89444585, 1327635.47518535, 1673336.80914697,\n",
       "       1332982.96687899, 1845265.28842091, 1234154.43336068,\n",
       "       1326005.58668118, 1044818.2874701 ,  967557.09282327,\n",
       "        849749.97259707, 1658824.84878195, 1578262.15665725,\n",
       "       1165358.99318532,  719755.66898237, 1147523.48162986,\n",
       "       1165909.60321383, 1232497.0697128 ,  959704.8193585 ,\n",
       "       1063003.81497351,  869472.82483888, 1014551.02939814,\n",
       "       1190893.48425635,  996093.20059556, 1699396.77317488,\n",
       "       1148912.13895715,  972606.37943685, 1423612.15522412,\n",
       "       1710827.5799546 , 1038291.3458618 , 1155371.55367173,\n",
       "       1429468.82091921,  545532.44263522, 1409814.40092381,\n",
       "        961346.3288155 , 1552375.23074884,  847630.03057616,\n",
       "       1365385.85160853,  652044.07460283, 1289209.78340634,\n",
       "       1457854.8697699 , 1223383.625554  , 1223102.84308873,\n",
       "       1130100.6809279 ,  781783.79376479, 1212960.19929254,\n",
       "       1511541.57076322, 1155235.10417078, 1224013.58363847,\n",
       "       1039613.48434591, 1316419.59604788, 1589686.12345182,\n",
       "       1669307.30076871, 1227551.249022  , 1112214.81462304,\n",
       "        826676.7557141 , 1538121.44225816,  875061.87212295,\n",
       "       1115149.66743047, 1515253.98178511, 1289510.81912386,\n",
       "       1265770.41382123, 1205570.98171794, 1510404.08290717,\n",
       "       1127447.00333495, 1204348.28786698, 1295834.84803717,\n",
       "       1748855.0725052 , 1422525.67344533, 1511299.14158919,\n",
       "       1264462.74610258, 1170708.19029683, 1417222.4345311 ,\n",
       "       1567923.94656846, 1581089.15390955, 1045512.74086172,\n",
       "       1288196.25097335,  513923.94618134, 1104101.51439712,\n",
       "        988292.42253986,  922497.30303891,  696703.5671289 ,\n",
       "        997429.9956178 ,  867326.31209334, 1250815.28961124,\n",
       "       1640145.6355613 , 1299309.75983953,  934945.36537134,\n",
       "       1040403.27682326, 1653105.15471203, 1359051.8215199 ,\n",
       "       1995359.22891361, 1689756.91511199, 1164051.25963382,\n",
       "       2097585.09334739, 1023196.85626028,  766627.08805828,\n",
       "        582466.83242823, 1573579.34039391,  569208.4386142 ,\n",
       "       1681959.55124379,  854358.19418838,  862783.69489451,\n",
       "       1306506.71798245, 1423055.67787361, 1272478.63005746,\n",
       "       1765161.30493384, 1150671.11991374, 1408769.33020073,\n",
       "       1074611.70806805, 1583185.32608208, 1448850.04546406,\n",
       "       1566639.12796304,  866058.35602115, 1157244.54800638,\n",
       "       1271383.25062267, 1173793.06095854, 1414694.33253914,\n",
       "       1266122.83311377, 1544025.26007199,  956019.89413796,\n",
       "       1245182.94124351, 1703253.54720379, 1151457.11838598,\n",
       "       1333491.73236017, 1300350.99023285, 1538497.175883  ,\n",
       "       1017743.0723824 , 1697388.62697591, 1244415.69447941,\n",
       "       1217586.28391135,  687384.54121366,  934915.15431619,\n",
       "       1128877.1235437 , 1238929.01411264, 1176810.41377615,\n",
       "       1293275.95763792, 1521053.3251224 ,  982852.96276326,\n",
       "       1181473.62197631, 1551880.49969252, 1094065.69590755,\n",
       "       1168246.57981089, 1505400.38812405, 1072961.26392101,\n",
       "       1268962.21224868, 1414983.8983768 , 1131074.69306806,\n",
       "       1370504.66349139, 1219201.78237195, 1151182.5454596 ,\n",
       "       1886319.82808594, 1054232.3324127 ,  830366.71175481,\n",
       "       1220597.38089948, 1280376.08773583, 1507815.82543591,\n",
       "       1545843.44854499, 1095105.70432174,  510464.44992279,\n",
       "        576516.70156924, 1260881.91746515, 1238598.62317402,\n",
       "       1216748.95086353,  534554.86364994, 1063030.72376492,\n",
       "       1183830.46446367, 1617951.9510889 , 1595846.82672602,\n",
       "        953647.31024915, 1483890.80186125, 1464582.97889521,\n",
       "       1288606.77786412, 1416236.9008751 , 1482814.39859461,\n",
       "       1562729.78420384, 1347954.261367  ,  740341.16093211,\n",
       "       1485947.17223588,  939530.99649408, 1707234.77904312,\n",
       "       1420013.69102224,  890800.10124611, 1224233.89131468,\n",
       "       1062650.68113697, 1594483.18218923, 1350574.91081256,\n",
       "       1410063.18725926, 1284295.75322867, 1325397.31552205,\n",
       "        542713.56932149, 1694144.67264073, 1923614.80209225,\n",
       "        575443.90077353, 1331265.59711503,  962380.94076089,\n",
       "       1607255.79728161,  988726.47660773,  801821.33448539,\n",
       "        843899.87463964,  841717.10259987, 1028863.71612574,\n",
       "       1185531.00413448, 1478539.52425291, 1453299.17610711,\n",
       "       1311227.34225173,  962730.79926537, 1612466.23766789,\n",
       "        996698.10827885, 1321152.98311841,  650983.0805198 ,\n",
       "       1040833.0212403 , 1586612.34978169, 1142861.11550497,\n",
       "       1465793.57659743, 1268183.26535567, 1193228.59238239,\n",
       "       1400294.44746097, 1178191.70811982, 1644671.19712701,\n",
       "       1293643.92025044,  755724.56730972, 1657094.00725253,\n",
       "       1444195.3262477 , 1044210.42601351, 1393318.86748531,\n",
       "        936919.54609254,  941649.95121136, 1185113.91884812,\n",
       "       1699302.63584608,  843195.25025735, 1018672.20007561,\n",
       "       1452903.68433923, 1568865.36135626,  904974.10296286,\n",
       "       1053317.24869003,  631179.0200324 ,  947545.66682437,\n",
       "       1332386.47588644, 1195723.95748855, 1436191.82792604,\n",
       "       1548806.90595617,  712373.21493609, 1651466.00528741,\n",
       "       1807075.76479309, 1561212.31776143,  898607.71819803,\n",
       "       1365671.73418889,  932946.78540269, 1543899.99103032,\n",
       "        639598.18035418, 1592311.81673948, 1348619.55469124,\n",
       "       1729795.11366403, 1100490.13010661, 1221956.19848601,\n",
       "       1534384.9404531 , 1159181.41761448, 1987012.15542413,\n",
       "        920349.66247288, 1351275.63840376, 1747399.80375868,\n",
       "       1589604.1832186 ,  799300.84413428, 1357721.8695334 ,\n",
       "       1052578.23621252,  943342.17604888, 1210970.32832723,\n",
       "        951562.19815479, 1215740.9224439 , 1092013.14081887,\n",
       "       1460116.16945166, 1483234.84358614, 1624138.06614595,\n",
       "       1462338.66814643, 1245854.02282047, 1665967.7911488 ,\n",
       "       1154415.42876368, 1038589.36349192,  933587.41940679,\n",
       "        692435.04619191, 1520550.47846651,  911955.58693942,\n",
       "       1565607.044478  ,  921984.75933939, 1416407.01862364,\n",
       "       1542348.44334135, 2286853.93001112, 1117671.17748459,\n",
       "       1120187.64584407, 1306988.68089483, 1667534.30320728,\n",
       "        586879.05809972, 1638111.10996987, 1189179.40901986,\n",
       "       1389084.38406522,  744837.10838259, 1422438.32481817,\n",
       "        693364.02859166, 1634271.56007854,  925228.98253737,\n",
       "       1374292.33199163, 1432363.04159552,  972676.90181814,\n",
       "        479311.66597234, 1482032.55205485, 1457698.65901765,\n",
       "       1293043.22101881, 1287828.75465275, 1234178.60746453,\n",
       "       1236799.44586096, 1027470.10654438, 1453303.36275014,\n",
       "        971482.35761862,  739923.69281194, 1361734.19248138,\n",
       "        878541.57417892, 1458092.45815495, 1409701.91173041,\n",
       "        800551.41203556,  636276.22027982, 1584933.12939187,\n",
       "       1546112.29997674,  895314.79799473,  833228.68032734,\n",
       "       1241096.38448829, 1151009.04224532,  783115.07670709,\n",
       "       1139456.95552254, 1100203.03097928, 1171538.71107646,\n",
       "       1263038.82438799, 1323565.41641269, 1238616.93493789,\n",
       "        893471.21344013, 1124898.02881275, 1060439.61584393,\n",
       "       1071842.28133709, 1212297.81979234,  988356.99181672,\n",
       "       1110299.26226845, 1351969.92189897, 1215511.22304135,\n",
       "       1318088.36009862,  963647.44815471, 1208678.56888293,\n",
       "       1462060.08673702, 1340507.91190468, 1871122.81697856,\n",
       "       1072203.48321261, 1031307.28028563, 1331246.25757711,\n",
       "       1082987.85194282, 1070342.14320154, 1172661.4829786 ,\n",
       "        967850.72577734, 1054084.23576085, 1023464.15361079,\n",
       "       1541454.27390618,  717216.90450716, 1770108.26172351,\n",
       "       1328769.72103725,  899404.98162921, 1075989.96446914,\n",
       "       1149462.43377422, 1103550.99873674,  931090.22780255,\n",
       "       1622369.53169206, 1462117.57115299, 1643168.67087702,\n",
       "       1233894.7656493 , 1161818.44044354,  878629.91091414,\n",
       "       1425622.09143251, 1831542.96710745, 1888705.55705628,\n",
       "        966716.30732577])"
      ]
     },
     "execution_count": 41,
     "metadata": {},
     "output_type": "execute_result"
    }
   ],
   "source": [
    "predictions = model.predict(x_test)  # x test varun y test value predict keli\n",
    "predictions"
   ]
  },
  {
   "cell_type": "code",
   "execution_count": 42,
   "id": "66a68eca",
   "metadata": {},
   "outputs": [
    {
     "data": {
      "text/plain": [
       "1501    1.339096e+06\n",
       "2586    1.251794e+06\n",
       "2653    1.340095e+06\n",
       "1055    1.431508e+06\n",
       "705     1.042374e+06\n",
       "            ...     \n",
       "4711    1.107031e+06\n",
       "2313    1.405505e+06\n",
       "3214    1.924156e+06\n",
       "2732    1.571254e+06\n",
       "1926    8.831475e+05\n",
       "Name: Price, Length: 1000, dtype: float64"
      ]
     },
     "execution_count": 42,
     "metadata": {},
     "output_type": "execute_result"
    }
   ],
   "source": [
    "y_test"
   ]
  },
  {
   "cell_type": "code",
   "execution_count": 43,
   "id": "3204bd68",
   "metadata": {},
   "outputs": [
    {
     "data": {
      "text/plain": [
       "0.7987005582223338"
      ]
     },
     "execution_count": 43,
     "metadata": {},
     "output_type": "execute_result"
    }
   ],
   "source": [
    "# Accuracy\n",
    "model.score(x_train,y_train)\n"
   ]
  },
  {
   "cell_type": "code",
   "execution_count": 31,
   "id": "d867a952",
   "metadata": {},
   "outputs": [
    {
     "data": {
      "text/plain": [
       "<matplotlib.collections.PathCollection at 0x16eae04ffa0>"
      ]
     },
     "execution_count": 31,
     "metadata": {},
     "output_type": "execute_result"
    },
    {
     "data": {
      "image/png": "[encoded data removed]",
      "text/plain": [
       "<Figure size 432x288 with 1 Axes>"
      ]
     },
     "metadata": {
      "needs_background": "light"
     },
     "output_type": "display_data"
    }
   ],
   "source": [
    "#Plotting the Best-fit Linear Regression Graph\n",
    "plt.scatter(y_test,predictions, color='blue')\n"
   ]
  },
  {
   "cell_type": "code",
   "execution_count": 47,
   "id": "cf4c9c72",
   "metadata": {},
   "outputs": [
    {
     "data": {
      "text/plain": [
       "<AxesSubplot:xlabel='Price'>"
      ]
     },
     "execution_count": 47,
     "metadata": {},
     "output_type": "execute_result"
    },
    {
     "data": {
      "image/png": "[encoded data removed]",
      "text/plain": [
       "<Figure size 432x288 with 1 Axes>"
      ]
     },
     "metadata": {
      "needs_background": "light"
     },
     "output_type": "display_data"
    }
   ],
   "source": [
    "sns.regplot(x = y_test, y = predictions, color = 'blue', scatter_kws = {'s': 20, 'alpha': 0.5}, line_kws = {'color': 'red'})"
   ]
  },
  {
   "cell_type": "code",
   "execution_count": 32,
   "id": "8dbf3bfd",
   "metadata": {},
   "outputs": [
    {
     "data": {
      "text/plain": [
       "<AxesSubplot:xlabel='Price', ylabel='Density'>"
      ]
     },
     "execution_count": 32,
     "metadata": {},
     "output_type": "execute_result"
    },
    {
     "data": {
      "image/png": "[encoded data removed]",
      "text/plain": [
       "<Figure size 432x288 with 1 Axes>"
      ]
     },
     "metadata": {
      "needs_background": "light"
     },
     "output_type": "display_data"
    }
   ],
   "source": [
    "import seaborn as sns\n",
    "sns.distplot(predictions-y_test)"
   ]
  },
  {
   "cell_type": "code",
   "execution_count": 33,
   "id": "c4b83d80",
   "metadata": {},
   "outputs": [
    {
     "data": {
      "text/plain": [
       "126906.14302163819"
      ]
     },
     "execution_count": 33,
     "metadata": {},
     "output_type": "execute_result"
    }
   ],
   "source": [
    "metrics.mean_absolute_error(y_test,predictions)\n"
   ]
  },
  {
   "cell_type": "code",
   "execution_count": 34,
   "id": "8c26a386",
   "metadata": {},
   "outputs": [
    {
     "data": {
      "text/plain": [
       "25217178477.03668"
      ]
     },
     "execution_count": 34,
     "metadata": {},
     "output_type": "execute_result"
    }
   ],
   "source": [
    "metrics.mean_squared_error(y_test,predictions)"
   ]
  },
  {
   "cell_type": "code",
   "execution_count": 35,
   "id": "0ff7ec27",
   "metadata": {},
   "outputs": [
    {
     "data": {
      "text/plain": [
       "158799.17656284204"
      ]
     },
     "execution_count": 35,
     "metadata": {},
     "output_type": "execute_result"
    }
   ],
   "source": [
    "# Root Mean squared error\n",
    "np.sqrt(metrics.mean_squared_error(y_test,predictions))"
   ]
  },
  {
   "cell_type": "code",
   "execution_count": 36,
   "id": "faeddd5a",
   "metadata": {},
   "outputs": [
    {
     "data": {
      "text/plain": [
       "0.7950363687032574"
      ]
     },
     "execution_count": 36,
     "metadata": {},
     "output_type": "execute_result"
    }
   ],
   "source": [
    "# Error matrix\n",
    "r2_score(y_test,predictions)"
   ]
  },
  {
   "cell_type": "markdown",
   "id": "398530f4",
   "metadata": {},
   "source": [
    "# Interpretation"
   ]
  },
  {
   "cell_type": "markdown",
   "id": "83a49195",
   "metadata": {},
   "source": [
    "### In House Pricing data i take dependent(target) variable \"X\" as 'price' and 3  dependent variable \"Y\" as 'Avg. Area Income','Avg. Area House Age','Area Population'.The r-2 score of Multiple model is 79% which is good for our data "
   ]
  },
  {
   "cell_type": "code",
   "execution_count": null,
   "id": "0624ed37",
   "metadata": {},
   "outputs": [],
   "source": []
  }
 ],
 "metadata": {
  "kernelspec": {
   "display_name": "Python 3 (ipykernel)",
   "language": "python",
   "name": "python3"
  },
  "language_info": {
   "codemirror_mode": {
    "name": "ipython",
    "version": 3
   },
   "file_extension": ".py",
   "mimetype": "text/x-python",
   "name": "python",
   "nbconvert_exporter": "python",
   "pygments_lexer": "ipython3",
   "version": "3.9.12"
  }
 },
 "nbformat": 4,
 "nbformat_minor": 5
}
